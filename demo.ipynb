{
 "cells": [
  {
   "cell_type": "markdown",
   "metadata": {},
   "source": [
    "# Sysmon and Netflow-like Coordinated Data Demonstration   \n",
    "\n",
    "This demonstrates how Sysmon and Netflow-like entries can be matched along parent-child process calls, and Netflow activity.\n",
    "\n",
    "This uses <a href=\"https://github.com/mitre/brawl-public-game-001\">the MITRE BRAWL dataset</a>, which demonstrates both red and blue activity over a cyber-range.  \n",
    "\n",
    "As with most cybersecurity datasets, most arrive in only one format (e.g., Sysmon or Netflow), when in actual practice these would be jointly.  For example, suspcious network activity in Netflow directs finer grained examination of corresponding events in Sysmon.\n",
    "\n",
    "Similar to other datasets, this data is exclusively Sysmon.  We use these Event ID 3 (network connection) events to create fake Netflow records to illustrate correlations between Sysmon and Netflow activity.  This \"Netflow-like\" representation includes source and destination IPs and ports, but unlike regular Netflow does not the duration nor magnitude of bytes.  However, this should serve to illustrate the relationship between Netflow IPs and Sysmon entries.\n",
    "\n",
    "Note while BRAWL does include Red and Blue activity, it does not incorporate \"regular\" user activity such as Microsoft Word.  It is also based on Windows 8, and does not include the full array of Sysmon event types.  It also uses Python-style \"Snake-Case\" for the field names, whereas Sysmon entries generally are stored in mixed case.  However, these should not detract illustrating  linkages between events.\n",
    "\n",
    "The column 'ptimestamp' is a float representing the POSIX timestamp that mirrors @timestap, and is offered as a convenience."
   ]
  },
  {
   "cell_type": "code",
   "execution_count": 27,
   "metadata": {},
   "outputs": [
    {
     "name": "stderr",
     "output_type": "stream",
     "text": [
      "/var/folders/5h/15gqg66x6hd6rdpm6v6y9sfm0000gr/T/ipykernel_94629/3565003691.py:7: DtypeWarning: Columns (51,52,53) have mixed types. Specify dtype option on import or set low_memory=False.\n",
      "  sysmon_df = pd.read_csv(Path(CSV_ROOT, \"brawl_sysmon.csv\"))\n"
     ]
    }
   ],
   "source": [
    "import pandas as pd\n",
    "from pathlib import Path\n",
    "from tqdm import tqdm\n",
    "from IPython.display import display, HTML\n",
    "\n",
    "CSV_ROOT = Path(\"csvs\")\n",
    "sysmon_df = pd.read_csv(Path(CSV_ROOT, \"brawl_sysmon.csv\"))\n",
    "netflow_df = pd.read_csv(Path(CSV_ROOT, \"brawl_netflow_like.csv\"))\n",
    "fqdn2ip_df = pd.read_csv(Path(CSV_ROOT, \"fqdn2ip.csv\"))"
   ]
  },
  {
   "cell_type": "markdown",
   "metadata": {},
   "source": [
    "<p><b>NOTE</b>: Other users have noticed that the record number order conflicts with timestamps in Sysmon, due to multiple possible causes such as delays in log processing or arrival order of events to the log processor.  To account for this, we sort by the event POSIX timestamps.</p>\n",
    "\n",
    "<p>This occurs in the BRAWL dataset, and also in other Sysmon datasets such as Attack Data.</p>\n",
    "\n",
    "<p>If you are working \"right-of-the-bang\" and are looking at logs detailing the potential incident or activity, then sorting by timestamp should be fine.  If you are looking at working with the record entries ``as-is'' due to a more real-time need, then you will have to disable sorting and work with the temporally disordered entries directly.</p>"
   ]
  },
  {
   "cell_type": "code",
   "execution_count": 28,
   "metadata": {},
   "outputs": [],
   "source": [
    "sysmon_df.sort_values(by=['ptimestamp'], inplace=True)\n",
    "netflow_df.sort_values(by=['ptimestamp'], inplace=True)"
   ]
  },
  {
   "cell_type": "markdown",
   "metadata": {},
   "source": [
    "# Matches between Parent-Child Sysmon Events\n",
    "\n",
    "We demonstrate how process and parent host and process identifiers are aligned between two events in Sysmon.  Here we have a call to taskeng.exe (event 1), which spawns a child process that runs GoogleUpdate.exe (event 2). \n",
    "\n",
    "The correspondences between events 1 and 2 are given in the following table:\n",
    "\n",
    "|Entry 1 Field|Entry 2 Field|\n",
    "|--|--|\n",
    "|host|host|\n",
    "|pid|parent_pid|\n",
    "|process_guid|parent_process_guid|\n",
    "|image_path|parent_image_path|\n",
    "\n",
    "Note that process GUIDs are hashes combining the hostname, process creation time, and process ID.  "
   ]
  },
  {
   "cell_type": "code",
   "execution_count": 23,
   "metadata": {},
   "outputs": [
    {
     "data": {
      "text/html": [
       "<p>We first sample a call to taskeng.exe and use this as our event 1.</p>"
      ],
      "text/plain": [
       "<IPython.core.display.HTML object>"
      ]
     },
     "metadata": {},
     "output_type": "display_data"
    },
    {
     "data": {
      "text/html": [
       "<div>\n",
       "<style scoped>\n",
       "    .dataframe tbody tr th:only-of-type {\n",
       "        vertical-align: middle;\n",
       "    }\n",
       "\n",
       "    .dataframe tbody tr th {\n",
       "        vertical-align: top;\n",
       "    }\n",
       "\n",
       "    .dataframe thead th {\n",
       "        text-align: right;\n",
       "    }\n",
       "</style>\n",
       "<table border=\"1\" class=\"dataframe\">\n",
       "  <thead>\n",
       "    <tr style=\"text-align: right;\">\n",
       "      <th></th>\n",
       "      <th>@timestamp</th>\n",
       "      <th>fqdn</th>\n",
       "      <th>pid</th>\n",
       "      <th>process_guid</th>\n",
       "      <th>command_line</th>\n",
       "    </tr>\n",
       "  </thead>\n",
       "  <tbody>\n",
       "    <tr>\n",
       "      <th>11460</th>\n",
       "      <td>2017-05-01T19:09:29.854Z</td>\n",
       "      <td>minahan-pc.brawlco.com</td>\n",
       "      <td>996</td>\n",
       "      <td>{6C70CE0A-87E9-5907-0000-00108C901100}</td>\n",
       "      <td>taskeng.exe {8AA7A318-060A-4A07-8CF6-D4C11333F...</td>\n",
       "    </tr>\n",
       "  </tbody>\n",
       "</table>\n",
       "</div>"
      ],
      "text/plain": [
       "                     @timestamp                    fqdn  pid  \\\n",
       "11460  2017-05-01T19:09:29.854Z  minahan-pc.brawlco.com  996   \n",
       "\n",
       "                                 process_guid  \\\n",
       "11460  {6C70CE0A-87E9-5907-0000-00108C901100}   \n",
       "\n",
       "                                            command_line  \n",
       "11460  taskeng.exe {8AA7A318-060A-4A07-8CF6-D4C11333F...  "
      ]
     },
     "metadata": {},
     "output_type": "display_data"
    }
   ],
   "source": [
    "display(HTML(\"\"\"<p>We first sample a call to taskeng.exe and use this as our event 1.</p>\"\"\"))\n",
    "evt1_df = sysmon_df[sysmon_df.event_code == 1]\n",
    "nbstat_df = evt1_df[evt1_df.command_line.str.contains(\"taskeng\")]\n",
    "\n",
    "row = nbstat_df.iloc[0]\n",
    "fqdn, pid, ppid, process_guid = row[['fqdn', 'pid', 'ppid', 'process_guid']]\n",
    "display(nbstat_df[['@timestamp', 'fqdn', 'pid', 'process_guid', 'command_line']][0:1])"
   ]
  },
  {
   "cell_type": "code",
   "execution_count": 24,
   "metadata": {},
   "outputs": [
    {
     "data": {
      "text/html": [
       "<p>We now search for matches of Sysmon events that mark them as children of event 1.</p>\n",
       "             <p>Per the above table, this includes matching parent PID and host agaiunst the originating process PID and host, or by matching the parent process GUID against the one from the originating process.</p>"
      ],
      "text/plain": [
       "<IPython.core.display.HTML object>"
      ]
     },
     "metadata": {},
     "output_type": "display_data"
    },
    {
     "data": {
      "text/html": [
       "<div>\n",
       "<style scoped>\n",
       "    .dataframe tbody tr th:only-of-type {\n",
       "        vertical-align: middle;\n",
       "    }\n",
       "\n",
       "    .dataframe tbody tr th {\n",
       "        vertical-align: top;\n",
       "    }\n",
       "\n",
       "    .dataframe thead th {\n",
       "        text-align: right;\n",
       "    }\n",
       "</style>\n",
       "<table border=\"1\" class=\"dataframe\">\n",
       "  <thead>\n",
       "    <tr style=\"text-align: right;\">\n",
       "      <th></th>\n",
       "      <th>@timestamp</th>\n",
       "      <th>fqdn</th>\n",
       "      <th>pid</th>\n",
       "      <th>ppid</th>\n",
       "      <th>process_guid</th>\n",
       "      <th>parent_process_guid</th>\n",
       "      <th>command_line</th>\n",
       "      <th>exe</th>\n",
       "    </tr>\n",
       "  </thead>\n",
       "  <tbody>\n",
       "    <tr>\n",
       "      <th>11461</th>\n",
       "      <td>2017-05-01T19:09:29.916Z</td>\n",
       "      <td>minahan-pc.brawlco.com</td>\n",
       "      <td>1804</td>\n",
       "      <td>996.0</td>\n",
       "      <td>{6C70CE0A-87E9-5907-0000-00101D921100}</td>\n",
       "      <td>{6C70CE0A-87E9-5907-0000-00108C901100}</td>\n",
       "      <td>\"C:\\Program Files (x86)\\Google\\Update\\GoogleUp...</td>\n",
       "      <td>GoogleUpdate.exe</td>\n",
       "    </tr>\n",
       "  </tbody>\n",
       "</table>\n",
       "</div>"
      ],
      "text/plain": [
       "                     @timestamp                    fqdn   pid   ppid  \\\n",
       "11461  2017-05-01T19:09:29.916Z  minahan-pc.brawlco.com  1804  996.0   \n",
       "\n",
       "                                 process_guid  \\\n",
       "11461  {6C70CE0A-87E9-5907-0000-00101D921100}   \n",
       "\n",
       "                          parent_process_guid  \\\n",
       "11461  {6C70CE0A-87E9-5907-0000-00108C901100}   \n",
       "\n",
       "                                            command_line               exe  \n",
       "11461  \"C:\\Program Files (x86)\\Google\\Update\\GoogleUp...  GoogleUpdate.exe  "
      ]
     },
     "metadata": {},
     "output_type": "display_data"
    },
    {
     "data": {
      "text/html": [
       "<p>We find task.eng spawned a call to run GoogleUpdate.exe, likely as a scheduled task.</p>"
      ],
      "text/plain": [
       "<IPython.core.display.HTML object>"
      ]
     },
     "metadata": {},
     "output_type": "display_data"
    }
   ],
   "source": [
    "display(HTML(\"\"\"<p>We now search for matches of Sysmon events that mark them as children of event 1.</p>\n",
    "             <p>Per the above table, this includes matching parent PID and host agaiunst the originating process PID and host, or by matching the parent process GUID against the one from the originating process.</p>\"\"\"))\n",
    "m1 = sysmon_df.ppid == pid \n",
    "m2 = sysmon_df.fqdn == fqdn\n",
    "m3 = sysmon_df.parent_process_guid == process_guid\n",
    "matched_df = sysmon_df[m1 & m2 & m3]\n",
    "display(matched_df[['@timestamp', 'fqdn', 'pid', 'ppid', 'process_guid', 'parent_process_guid', 'command_line', 'exe']])\n",
    "display(HTML(\"<p>We find task.eng spawned a call to run GoogleUpdate.exe, likely as a scheduled task.</p>\"))"
   ]
  },
  {
   "cell_type": "markdown",
   "metadata": {},
   "source": [
    "# Sysmon to Netflow Matches\n",
    "\n",
    "We now demonstrate activity matching between our Netflow-like representation and Sysmon.  We note that standard Netflow does not include hostnames, nor do they name ports.  Matching must be done by the IP address."
   ]
  },
  {
   "cell_type": "code",
   "execution_count": 25,
   "metadata": {},
   "outputs": [
    {
     "data": {
      "text/html": [
       "<p>WMIC is another one that has events 1 and 5 associated with 3, likely because it's not a service that is already spawned at start\n",
       "We start from this netflow-like entry, wanting to identify what was occurring on the machine that originated this traffic.</p>"
      ],
      "text/plain": [
       "<IPython.core.display.HTML object>"
      ]
     },
     "metadata": {},
     "output_type": "display_data"
    },
    {
     "name": "stdout",
     "output_type": "stream",
     "text": [
      "Netflow entry of interest\n",
      "@timestamp    2017-05-01T19:01:48.250Z\n",
      "utc_time       2017-05-01 19:01:48.250\n",
      "pid                               2720\n",
      "transport                          tcp\n",
      "src_ipv6                         False\n",
      "src_ip                     10.3.15.216\n",
      "src_port                         50153\n",
      "dest_ipv6                        False\n",
      "dest_ip                    10.3.15.212\n",
      "dest_port                        49155\n",
      "ppid                               NaN\n",
      "ptimestamp               1493690508.25\n",
      "Name: 902, dtype: object\n",
      "src_ip=10.3.15.216, dest_ip=10.3.15.212\n"
     ]
    },
    {
     "data": {
      "text/html": [
       "<p>Use our lookup to match which hosts the source and destination IPs are associated with.</p>"
      ],
      "text/plain": [
       "<IPython.core.display.HTML object>"
      ]
     },
     "metadata": {},
     "output_type": "display_data"
    },
    {
     "name": "stdout",
     "output_type": "stream",
     "text": [
      "Associated source hostname=sounder-pc.brawlco.com, ip=10.3.15.216, POSIX timestamp=1493690508.25\n",
      "Destination hostname=escue-pc.brawlco.com\n"
     ]
    }
   ],
   "source": [
    "display(HTML(\"\"\"<p>WMIC is another one that has events 1 and 5 associated with 3, likely because it's not a service that is already spawned at start\n",
    "We start from this netflow-like entry, wanting to identify what was occurring on the machine that originated this traffic.</p>\"\"\"))\n",
    "example_ptimestamp = 1493690508.25\n",
    "netflow_entry = netflow_df[netflow_df.ptimestamp == example_ptimestamp].iloc[0]\n",
    "print(\"Netflow entry of interest\")\n",
    "print(netflow_entry)\n",
    "\n",
    "src_ip = netflow_entry.src_ip\n",
    "dest_ip = netflow_entry.dest_ip\n",
    "\n",
    "print(f\"src_ip={src_ip}, dest_ip={dest_ip}\")\n",
    "\n",
    "display(HTML(\"<p>Use our lookup to match which hosts the source and destination IPs are associated with.</p>\"))\n",
    "ipv4_addr = netflow_entry.src_ip\n",
    "tgt_hostname = fqdn2ip_df[fqdn2ip_df.ipv4 == src_ip].iloc[0].fqdn\n",
    "tgt_ptimestamp = netflow_entry.ptimestamp\n",
    "print(f\"Associated source hostname={tgt_hostname}, ip={ipv4_addr}, POSIX timestamp={tgt_ptimestamp}\")\n",
    "\n",
    "dest_hostname = fqdn2ip_df[fqdn2ip_df.ipv4 == dest_ip].iloc[0].fqdn\n",
    "print(f\"Destination hostname={dest_hostname}\")"
   ]
  },
  {
   "cell_type": "code",
   "execution_count": 26,
   "metadata": {},
   "outputs": [
    {
     "data": {
      "text/html": [
       "\n",
       "<p>We now look for Sysmon entries within a one second bound of this event's timestamp.  Note this may technically include\n",
       "events in the past, as variance can be introduced into logged timestamps due to issues such as order of arrival to the \n",
       "logger, etc...  To account for this, we search for events within a window around the timestamp of interest, matched against\n",
       "the targeted hostname.</p>\n",
       "        "
      ],
      "text/plain": [
       "<IPython.core.display.HTML object>"
      ]
     },
     "metadata": {},
     "output_type": "display_data"
    },
    {
     "data": {
      "text/html": [
       "<div>\n",
       "<style scoped>\n",
       "    .dataframe tbody tr th:only-of-type {\n",
       "        vertical-align: middle;\n",
       "    }\n",
       "\n",
       "    .dataframe tbody tr th {\n",
       "        vertical-align: top;\n",
       "    }\n",
       "\n",
       "    .dataframe thead th {\n",
       "        text-align: right;\n",
       "    }\n",
       "</style>\n",
       "<table border=\"1\" class=\"dataframe\">\n",
       "  <thead>\n",
       "    <tr style=\"text-align: right;\">\n",
       "      <th></th>\n",
       "      <th>@timestamp</th>\n",
       "      <th>event_code</th>\n",
       "      <th>host</th>\n",
       "      <th>command_line</th>\n",
       "      <th>exe</th>\n",
       "      <th>process_guid</th>\n",
       "    </tr>\n",
       "  </thead>\n",
       "  <tbody>\n",
       "    <tr>\n",
       "      <th>1563</th>\n",
       "      <td>2017-05-01T19:01:48.245Z</td>\n",
       "      <td>3</td>\n",
       "      <td>sounder-pc.brawlco.com</td>\n",
       "      <td>NaN</td>\n",
       "      <td>svchost.exe</td>\n",
       "      <td>{6C70CE0A-7DA7-5907-0000-0010A0970000}</td>\n",
       "    </tr>\n",
       "    <tr>\n",
       "      <th>1564</th>\n",
       "      <td>2017-05-01T19:01:48.250Z</td>\n",
       "      <td>3</td>\n",
       "      <td>sounder-pc.brawlco.com</td>\n",
       "      <td>NaN</td>\n",
       "      <td>WMIC.exe</td>\n",
       "      <td>{6C70CE0A-861C-5907-0000-0010B7671300}</td>\n",
       "    </tr>\n",
       "    <tr>\n",
       "      <th>1565</th>\n",
       "      <td>2017-05-01T19:01:48.252Z</td>\n",
       "      <td>3</td>\n",
       "      <td>sounder-pc.brawlco.com</td>\n",
       "      <td>NaN</td>\n",
       "      <td>lsass.exe</td>\n",
       "      <td>{6C70CE0A-7DA2-5907-0000-0010364D0000}</td>\n",
       "    </tr>\n",
       "    <tr>\n",
       "      <th>1566</th>\n",
       "      <td>2017-05-01T19:01:48.262Z</td>\n",
       "      <td>3</td>\n",
       "      <td>sounder-pc.brawlco.com</td>\n",
       "      <td>NaN</td>\n",
       "      <td>lsass.exe</td>\n",
       "      <td>{6C70CE0A-7DA2-5907-0000-0010364D0000}</td>\n",
       "    </tr>\n",
       "    <tr>\n",
       "      <th>1567</th>\n",
       "      <td>2017-05-01T19:01:48.264Z</td>\n",
       "      <td>3</td>\n",
       "      <td>sounder-pc.brawlco.com</td>\n",
       "      <td>NaN</td>\n",
       "      <td>lsass.exe</td>\n",
       "      <td>{6C70CE0A-7DA2-5907-0000-0010364D0000}</td>\n",
       "    </tr>\n",
       "    <tr>\n",
       "      <th>1568</th>\n",
       "      <td>2017-05-01T19:01:48.283Z</td>\n",
       "      <td>3</td>\n",
       "      <td>sounder-pc.brawlco.com</td>\n",
       "      <td>NaN</td>\n",
       "      <td>lsass.exe</td>\n",
       "      <td>{6C70CE0A-7DA2-5907-0000-0010364D0000}</td>\n",
       "    </tr>\n",
       "  </tbody>\n",
       "</table>\n",
       "</div>"
      ],
      "text/plain": [
       "                    @timestamp  event_code                    host  \\\n",
       "1563  2017-05-01T19:01:48.245Z           3  sounder-pc.brawlco.com   \n",
       "1564  2017-05-01T19:01:48.250Z           3  sounder-pc.brawlco.com   \n",
       "1565  2017-05-01T19:01:48.252Z           3  sounder-pc.brawlco.com   \n",
       "1566  2017-05-01T19:01:48.262Z           3  sounder-pc.brawlco.com   \n",
       "1567  2017-05-01T19:01:48.264Z           3  sounder-pc.brawlco.com   \n",
       "1568  2017-05-01T19:01:48.283Z           3  sounder-pc.brawlco.com   \n",
       "\n",
       "     command_line          exe                            process_guid  \n",
       "1563          NaN  svchost.exe  {6C70CE0A-7DA7-5907-0000-0010A0970000}  \n",
       "1564          NaN     WMIC.exe  {6C70CE0A-861C-5907-0000-0010B7671300}  \n",
       "1565          NaN    lsass.exe  {6C70CE0A-7DA2-5907-0000-0010364D0000}  \n",
       "1566          NaN    lsass.exe  {6C70CE0A-7DA2-5907-0000-0010364D0000}  \n",
       "1567          NaN    lsass.exe  {6C70CE0A-7DA2-5907-0000-0010364D0000}  \n",
       "1568          NaN    lsass.exe  {6C70CE0A-7DA2-5907-0000-0010364D0000}  "
      ]
     },
     "metadata": {},
     "output_type": "display_data"
    },
    {
     "data": {
      "text/html": [
       "<p>We observe the following executables making outbound calls that meet our criteria.  We note that\n",
       "lsass.exe is the Windows authentication and security service, while svchost.exe manages scheduled tasks.\n",
       "WMIC.exe is a commandline utility for management tasks.</p>"
      ],
      "text/plain": [
       "<IPython.core.display.HTML object>"
      ]
     },
     "metadata": {},
     "output_type": "display_data"
    },
    {
     "data": {
      "text/html": [
       "<div>\n",
       "<style scoped>\n",
       "    .dataframe tbody tr th:only-of-type {\n",
       "        vertical-align: middle;\n",
       "    }\n",
       "\n",
       "    .dataframe tbody tr th {\n",
       "        vertical-align: top;\n",
       "    }\n",
       "\n",
       "    .dataframe thead th {\n",
       "        text-align: right;\n",
       "    }\n",
       "</style>\n",
       "<table border=\"1\" class=\"dataframe\">\n",
       "  <thead>\n",
       "    <tr style=\"text-align: right;\">\n",
       "      <th></th>\n",
       "      <th>@timestamp</th>\n",
       "      <th>event_code</th>\n",
       "      <th>host</th>\n",
       "      <th>command_line</th>\n",
       "      <th>exe</th>\n",
       "      <th>process_guid</th>\n",
       "    </tr>\n",
       "  </thead>\n",
       "  <tbody>\n",
       "    <tr>\n",
       "      <th>1564</th>\n",
       "      <td>2017-05-01T19:01:48.250Z</td>\n",
       "      <td>3</td>\n",
       "      <td>sounder-pc.brawlco.com</td>\n",
       "      <td>NaN</td>\n",
       "      <td>WMIC.exe</td>\n",
       "      <td>{6C70CE0A-861C-5907-0000-0010B7671300}</td>\n",
       "    </tr>\n",
       "  </tbody>\n",
       "</table>\n",
       "</div>"
      ],
      "text/plain": [
       "                    @timestamp  event_code                    host  \\\n",
       "1564  2017-05-01T19:01:48.250Z           3  sounder-pc.brawlco.com   \n",
       "\n",
       "     command_line       exe                            process_guid  \n",
       "1564          NaN  WMIC.exe  {6C70CE0A-861C-5907-0000-0010B7671300}  "
      ]
     },
     "metadata": {},
     "output_type": "display_data"
    },
    {
     "data": {
      "text/html": [
       "<p>Following the WMIC.exe's process GUID, we find a subsequent call by wmic to escue-pc.brawlco.com, which matches the dest_ip\n",
       "identified in our netflow-like entry.</p>\n",
       " \n",
       "<p><b>Note</b> this is an event code 1 (process creation), instead of event_code 3 (network connection), and if following\n",
       "the transcript literally it occurs after the event call.  Due to logging setup and issues such as time of arrival\n",
       "to the logger, there may be some variance in the timestamps.</p>"
      ],
      "text/plain": [
       "<IPython.core.display.HTML object>"
      ]
     },
     "metadata": {},
     "output_type": "display_data"
    },
    {
     "data": {
      "text/html": [
       "<div>\n",
       "<style scoped>\n",
       "    .dataframe tbody tr th:only-of-type {\n",
       "        vertical-align: middle;\n",
       "    }\n",
       "\n",
       "    .dataframe tbody tr th {\n",
       "        vertical-align: top;\n",
       "    }\n",
       "\n",
       "    .dataframe thead th {\n",
       "        text-align: right;\n",
       "    }\n",
       "</style>\n",
       "<table border=\"1\" class=\"dataframe\">\n",
       "  <thead>\n",
       "    <tr style=\"text-align: right;\">\n",
       "      <th></th>\n",
       "      <th>@timestamp</th>\n",
       "      <th>event_code</th>\n",
       "      <th>host</th>\n",
       "      <th>command_line</th>\n",
       "      <th>exe</th>\n",
       "      <th>process_guid</th>\n",
       "    </tr>\n",
       "  </thead>\n",
       "  <tbody>\n",
       "    <tr>\n",
       "      <th>1564</th>\n",
       "      <td>2017-05-01T19:01:48.250Z</td>\n",
       "      <td>3</td>\n",
       "      <td>sounder-pc.brawlco.com</td>\n",
       "      <td>NaN</td>\n",
       "      <td>WMIC.exe</td>\n",
       "      <td>{6C70CE0A-861C-5907-0000-0010B7671300}</td>\n",
       "    </tr>\n",
       "    <tr>\n",
       "      <th>1549</th>\n",
       "      <td>2017-05-01T19:01:48.611Z</td>\n",
       "      <td>1</td>\n",
       "      <td>sounder-pc.brawlco.com</td>\n",
       "      <td>\"wmic\" /node:\"escue-pc.brawlco.com\" /user:\"bra...</td>\n",
       "      <td>WMIC.exe</td>\n",
       "      <td>{6C70CE0A-861C-5907-0000-0010B7671300}</td>\n",
       "    </tr>\n",
       "    <tr>\n",
       "      <th>1551</th>\n",
       "      <td>2017-05-01T19:01:49.017Z</td>\n",
       "      <td>5</td>\n",
       "      <td>sounder-pc.brawlco.com</td>\n",
       "      <td>NaN</td>\n",
       "      <td>WMIC.exe</td>\n",
       "      <td>{6C70CE0A-861C-5907-0000-0010B7671300}</td>\n",
       "    </tr>\n",
       "  </tbody>\n",
       "</table>\n",
       "</div>"
      ],
      "text/plain": [
       "                    @timestamp  event_code                    host  \\\n",
       "1564  2017-05-01T19:01:48.250Z           3  sounder-pc.brawlco.com   \n",
       "1549  2017-05-01T19:01:48.611Z           1  sounder-pc.brawlco.com   \n",
       "1551  2017-05-01T19:01:49.017Z           5  sounder-pc.brawlco.com   \n",
       "\n",
       "                                           command_line       exe  \\\n",
       "1564                                                NaN  WMIC.exe   \n",
       "1549  \"wmic\" /node:\"escue-pc.brawlco.com\" /user:\"bra...  WMIC.exe   \n",
       "1551                                                NaN  WMIC.exe   \n",
       "\n",
       "                                process_guid  \n",
       "1564  {6C70CE0A-861C-5907-0000-0010B7671300}  \n",
       "1549  {6C70CE0A-861C-5907-0000-0010B7671300}  \n",
       "1551  {6C70CE0A-861C-5907-0000-0010B7671300}  "
      ]
     },
     "metadata": {},
     "output_type": "display_data"
    }
   ],
   "source": [
    "\n",
    "window = 0.1\n",
    "m1 = (sysmon_df.ptimestamp >= (tgt_ptimestamp - window)) & (sysmon_df.ptimestamp <= (tgt_ptimestamp + window)) \n",
    "m2 = sysmon_df.host == tgt_hostname\n",
    "matched_df = sysmon_df[ m1 & m2][['@timestamp', 'event_code', 'host', 'command_line', 'exe', 'process_guid']]\n",
    "display(HTML(\"\"\"\n",
    "<p>We now look for Sysmon entries within a one second bound of this event's timestamp.  Note this may technically include\n",
    "events in the past, as variance can be introduced into logged timestamps due to issues such as order of arrival to the \n",
    "logger, etc...  To account for this, we search for events within a window around the timestamp of interest, matched against\n",
    "the targeted hostname.</p>\n",
    "        \"\"\"))\n",
    "display(matched_df)\n",
    "\n",
    "display(HTML(\"\"\"<p>We observe the following executables making outbound calls that meet our criteria.  We note that\n",
    "lsass.exe is the Windows authentication and security service, while svchost.exe manages scheduled tasks.\n",
    "WMIC.exe is a commandline utility for management tasks.</p>\"\"\"))\n",
    " \n",
    "wmic_df = matched_df[matched_df.exe == \"WMIC.exe\"]\n",
    "tgt_process_guid = wmic_df.iloc[0].process_guid\n",
    "\n",
    "display(wmic_df)\n",
    "\n",
    "display(HTML(\"\"\"<p>Following the WMIC.exe's process GUID, we find a subsequent call by wmic to escue-pc.brawlco.com, which matches the dest_ip\n",
    "identified in our netflow-like entry.</p>\n",
    " \n",
    "<p><b>Note</b> this is an event code 1 (process creation), instead of event_code 3 (network connection), and if following\n",
    "the transcript literally it occurs after the event call.  Due to logging setup and issues such as time of arrival\n",
    "to the logger, there may be some variance in the timestamps.</p>\"\"\"))\n",
    "display(sysmon_df[(sysmon_df.process_guid == tgt_process_guid)][['@timestamp', 'event_code', 'host', 'command_line', 'exe', 'process_guid']])"
   ]
  },
  {
   "cell_type": "markdown",
   "metadata": {},
   "source": [
    "# Notes\n",
    "\n",
    "- Not every net connection event (event code 3) has a corresponding process create (event code 1) or terminate (event code 5).  This may occur because the process making the call was a system service that was started before Sysmon.  \n",
    "- Time of arrival to the logging machine can impact "
   ]
  }
 ],
 "metadata": {
  "kernelspec": {
   "display_name": "tester",
   "language": "python",
   "name": "python3"
  },
  "language_info": {
   "codemirror_mode": {
    "name": "ipython",
    "version": 3
   },
   "file_extension": ".py",
   "mimetype": "text/x-python",
   "name": "python",
   "nbconvert_exporter": "python",
   "pygments_lexer": "ipython3",
   "version": "3.11.11"
  }
 },
 "nbformat": 4,
 "nbformat_minor": 2
}
